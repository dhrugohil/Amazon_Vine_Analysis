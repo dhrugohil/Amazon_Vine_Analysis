{
 "cells": [
  {
   "cell_type": "code",
   "execution_count": 4,
   "metadata": {
    "execution": {
     "iopub.execute_input": "2021-02-07T16:53:32.960660Z",
     "iopub.status.busy": "2021-02-07T16:53:32.960660Z",
     "iopub.status.idle": "2021-02-07T16:53:33.410453Z",
     "shell.execute_reply": "2021-02-07T16:53:33.410453Z",
     "shell.execute_reply.started": "2021-02-07T16:53:32.960660Z"
    }
   },
   "outputs": [],
   "source": [
    "import pandas as pd \n",
    "import psycopg2 \n",
    "import config"
   ]
  },
  {
   "cell_type": "code",
   "execution_count": 10,
   "metadata": {
    "execution": {
     "iopub.execute_input": "2021-02-07T17:16:37.847251Z",
     "iopub.status.busy": "2021-02-07T17:16:37.847251Z",
     "iopub.status.idle": "2021-02-07T17:16:40.752189Z",
     "shell.execute_reply": "2021-02-07T17:16:40.752189Z",
     "shell.execute_reply.started": "2021-02-07T17:16:37.847251Z"
    }
   },
   "outputs": [],
   "source": [
    "conn = psycopg2.connect(host=config.dbhost, port=5432, database=\"office_product_data\", user=config.user, password=config.dbpass)\n",
    "cur = conn.cursor()\n",
    "\n",
    "cur.execute('''SELECT * FROM vine_program_reviews''')\n",
    "vine_program_reviews = pd.DataFrame(cur.fetchall())\n",
    "vine_program_reviews.columns = [i[0] for i in cur.description]\n",
    " \n",
    "cur.execute('''SELECT * FROM non_vine_program_reviews''')\n",
    "non_vine_program_reviews = pd.DataFrame(cur.fetchall())\n",
    "non_vine_program_reviews.columns = [i[0] for i in cur.description]\n",
    "\n",
    "conn.close()"
   ]
  },
  {
   "cell_type": "code",
   "execution_count": 11,
   "metadata": {
    "execution": {
     "iopub.execute_input": "2021-02-07T17:16:41.654987Z",
     "iopub.status.busy": "2021-02-07T17:16:41.653991Z",
     "iopub.status.idle": "2021-02-07T17:16:41.672940Z",
     "shell.execute_reply": "2021-02-07T17:16:41.671979Z",
     "shell.execute_reply.started": "2021-02-07T17:16:41.654987Z"
    }
   },
   "outputs": [
    {
     "data": {
      "text/html": [
       "<div>\n",
       "<style scoped>\n",
       "    .dataframe tbody tr th:only-of-type {\n",
       "        vertical-align: middle;\n",
       "    }\n",
       "\n",
       "    .dataframe tbody tr th {\n",
       "        vertical-align: top;\n",
       "    }\n",
       "\n",
       "    .dataframe thead th {\n",
       "        text-align: right;\n",
       "    }\n",
       "</style>\n",
       "<table border=\"1\" class=\"dataframe\">\n",
       "  <thead>\n",
       "    <tr style=\"text-align: right;\">\n",
       "      <th></th>\n",
       "      <th>review_id</th>\n",
       "      <th>star_rating</th>\n",
       "      <th>helpful_votes</th>\n",
       "      <th>total_votes</th>\n",
       "      <th>vine</th>\n",
       "      <th>verified_purchase</th>\n",
       "    </tr>\n",
       "  </thead>\n",
       "  <tbody>\n",
       "    <tr>\n",
       "      <th>0</th>\n",
       "      <td>R3JIGR122X50ZV</td>\n",
       "      <td>5</td>\n",
       "      <td>2280</td>\n",
       "      <td>2314</td>\n",
       "      <td>Y</td>\n",
       "      <td>N</td>\n",
       "    </tr>\n",
       "    <tr>\n",
       "      <th>1</th>\n",
       "      <td>R3KV8P8WLD2KKC</td>\n",
       "      <td>5</td>\n",
       "      <td>263</td>\n",
       "      <td>286</td>\n",
       "      <td>Y</td>\n",
       "      <td>N</td>\n",
       "    </tr>\n",
       "    <tr>\n",
       "      <th>2</th>\n",
       "      <td>R3P01OXMA0U0CA</td>\n",
       "      <td>5</td>\n",
       "      <td>114</td>\n",
       "      <td>117</td>\n",
       "      <td>Y</td>\n",
       "      <td>N</td>\n",
       "    </tr>\n",
       "    <tr>\n",
       "      <th>3</th>\n",
       "      <td>R2LFY2ZPJ3J7RH</td>\n",
       "      <td>4</td>\n",
       "      <td>36</td>\n",
       "      <td>38</td>\n",
       "      <td>Y</td>\n",
       "      <td>N</td>\n",
       "    </tr>\n",
       "    <tr>\n",
       "      <th>4</th>\n",
       "      <td>R2SCMXBD9OQP8Z</td>\n",
       "      <td>2</td>\n",
       "      <td>22</td>\n",
       "      <td>26</td>\n",
       "      <td>Y</td>\n",
       "      <td>N</td>\n",
       "    </tr>\n",
       "  </tbody>\n",
       "</table>\n",
       "</div>"
      ],
      "text/plain": [
       "        review_id  star_rating  helpful_votes  total_votes vine  \\\n",
       "0  R3JIGR122X50ZV            5           2280         2314    Y   \n",
       "1  R3KV8P8WLD2KKC            5            263          286    Y   \n",
       "2  R3P01OXMA0U0CA            5            114          117    Y   \n",
       "3  R2LFY2ZPJ3J7RH            4             36           38    Y   \n",
       "4  R2SCMXBD9OQP8Z            2             22           26    Y   \n",
       "\n",
       "  verified_purchase  \n",
       "0                 N  \n",
       "1                 N  \n",
       "2                 N  \n",
       "3                 N  \n",
       "4                 N  "
      ]
     },
     "execution_count": 11,
     "metadata": {},
     "output_type": "execute_result"
    },
    {
     "data": {
      "text/html": [
       "<div>\n",
       "<style scoped>\n",
       "    .dataframe tbody tr th:only-of-type {\n",
       "        vertical-align: middle;\n",
       "    }\n",
       "\n",
       "    .dataframe tbody tr th {\n",
       "        vertical-align: top;\n",
       "    }\n",
       "\n",
       "    .dataframe thead th {\n",
       "        text-align: right;\n",
       "    }\n",
       "</style>\n",
       "<table border=\"1\" class=\"dataframe\">\n",
       "  <thead>\n",
       "    <tr style=\"text-align: right;\">\n",
       "      <th></th>\n",
       "      <th>review_id</th>\n",
       "      <th>star_rating</th>\n",
       "      <th>helpful_votes</th>\n",
       "      <th>total_votes</th>\n",
       "      <th>vine</th>\n",
       "      <th>verified_purchase</th>\n",
       "    </tr>\n",
       "  </thead>\n",
       "  <tbody>\n",
       "    <tr>\n",
       "      <th>0</th>\n",
       "      <td>R243UXMMSSZVS6</td>\n",
       "      <td>2</td>\n",
       "      <td>254</td>\n",
       "      <td>254</td>\n",
       "      <td>N</td>\n",
       "      <td>Y</td>\n",
       "    </tr>\n",
       "    <tr>\n",
       "      <th>1</th>\n",
       "      <td>R2J6UYRU7AX8NS</td>\n",
       "      <td>5</td>\n",
       "      <td>23</td>\n",
       "      <td>24</td>\n",
       "      <td>N</td>\n",
       "      <td>Y</td>\n",
       "    </tr>\n",
       "    <tr>\n",
       "      <th>2</th>\n",
       "      <td>RN93Z4XPNAANY</td>\n",
       "      <td>5</td>\n",
       "      <td>31</td>\n",
       "      <td>31</td>\n",
       "      <td>N</td>\n",
       "      <td>Y</td>\n",
       "    </tr>\n",
       "    <tr>\n",
       "      <th>3</th>\n",
       "      <td>R1O74T9XO3OPQ4</td>\n",
       "      <td>5</td>\n",
       "      <td>38</td>\n",
       "      <td>38</td>\n",
       "      <td>N</td>\n",
       "      <td>Y</td>\n",
       "    </tr>\n",
       "    <tr>\n",
       "      <th>4</th>\n",
       "      <td>R3LANI678T2YQS</td>\n",
       "      <td>5</td>\n",
       "      <td>39</td>\n",
       "      <td>47</td>\n",
       "      <td>N</td>\n",
       "      <td>N</td>\n",
       "    </tr>\n",
       "  </tbody>\n",
       "</table>\n",
       "</div>"
      ],
      "text/plain": [
       "        review_id  star_rating  helpful_votes  total_votes vine  \\\n",
       "0  R243UXMMSSZVS6            2            254          254    N   \n",
       "1  R2J6UYRU7AX8NS            5             23           24    N   \n",
       "2   RN93Z4XPNAANY            5             31           31    N   \n",
       "3  R1O74T9XO3OPQ4            5             38           38    N   \n",
       "4  R3LANI678T2YQS            5             39           47    N   \n",
       "\n",
       "  verified_purchase  \n",
       "0                 Y  \n",
       "1                 Y  \n",
       "2                 Y  \n",
       "3                 Y  \n",
       "4                 N  "
      ]
     },
     "execution_count": 11,
     "metadata": {},
     "output_type": "execute_result"
    }
   ],
   "source": [
    "vine_program_reviews.head()\n",
    "non_vine_program_reviews.head()"
   ]
  },
  {
   "cell_type": "code",
   "execution_count": 21,
   "metadata": {
    "execution": {
     "iopub.execute_input": "2021-02-07T17:26:03.202354Z",
     "iopub.status.busy": "2021-02-07T17:26:03.202354Z",
     "iopub.status.idle": "2021-02-07T17:26:03.207340Z",
     "shell.execute_reply": "2021-02-07T17:26:03.207340Z",
     "shell.execute_reply.started": "2021-02-07T17:26:03.202354Z"
    }
   },
   "outputs": [],
   "source": [
    "vine_summary = pd.DataFrame([[1,2,3],[4,5,6]], columns=['a','b','c'])"
   ]
  },
  {
   "cell_type": "code",
   "execution_count": 71,
   "metadata": {
    "execution": {
     "iopub.execute_input": "2021-02-07T18:08:08.554535Z",
     "iopub.status.busy": "2021-02-07T18:08:08.554535Z",
     "iopub.status.idle": "2021-02-07T18:08:08.585496Z",
     "shell.execute_reply": "2021-02-07T18:08:08.585496Z",
     "shell.execute_reply.started": "2021-02-07T18:08:08.554535Z"
    }
   },
   "outputs": [],
   "source": [
    "vine_review_count = vine_program_reviews.review_id.count()\n",
    "non_vine_review_count = non_vine_program_reviews.review_id.count()\n",
    "\n",
    "vine_5star = vine_program_reviews[vine_program_reviews['star_rating'] == 5].count()[0]\n",
    "non_vine_5star = non_vine_program_reviews[non_vine_program_reviews['star_rating'] == 5].count()[0]\n",
    "\n",
    "vine_5star_percent = vine_program_reviews[vine_program_reviews['star_rating'] == 5].count()[0]/vine_program_reviews.review_id.count()\n",
    "non_vine_5star_percent = non_vine_program_reviews[non_vine_program_reviews['star_rating'] == 5].count()[0]/ non_vine_program_reviews.review_id.count()\n",
    "\n",
    "vine_5star_percent = \"{:.2%}\".format(vine_5star_percent)\n",
    "non_vine_5star_percent = \"{:.2%}\".format(non_vine_5star_percent)"
   ]
  },
  {
   "cell_type": "code",
   "execution_count": 75,
   "metadata": {
    "execution": {
     "iopub.execute_input": "2021-02-07T18:13:28.491572Z",
     "iopub.status.busy": "2021-02-07T18:13:28.490574Z",
     "iopub.status.idle": "2021-02-07T18:13:28.496558Z",
     "shell.execute_reply": "2021-02-07T18:13:28.495596Z",
     "shell.execute_reply.started": "2021-02-07T18:13:28.490574Z"
    }
   },
   "outputs": [],
   "source": [
    "vine_summary = pd.DataFrame({'total_vine_reviews':[vine_review_count],\n",
    "                            'total_non_vine_reviews':[non_vine_review_count],\n",
    "                            'total_5_star_vine_reviews':[vine_5star],\n",
    "                            'total_5_star_non_vine_reviews':[non_vine_5star],\n",
    "                            'vine_reviews_5_star_percentage':[vine_5_star_percent],\n",
    "                            'non_vine_reviews_5_star_percentage':[non_vine_5star_percent]})"
   ]
  },
  {
   "cell_type": "code",
   "execution_count": 76,
   "metadata": {
    "execution": {
     "iopub.execute_input": "2021-02-07T18:13:29.060052Z",
     "iopub.status.busy": "2021-02-07T18:13:29.060052Z",
     "iopub.status.idle": "2021-02-07T18:13:29.068537Z",
     "shell.execute_reply": "2021-02-07T18:13:29.068537Z",
     "shell.execute_reply.started": "2021-02-07T18:13:29.060052Z"
    }
   },
   "outputs": [
    {
     "data": {
      "text/html": [
       "<div>\n",
       "<style scoped>\n",
       "    .dataframe tbody tr th:only-of-type {\n",
       "        vertical-align: middle;\n",
       "    }\n",
       "\n",
       "    .dataframe tbody tr th {\n",
       "        vertical-align: top;\n",
       "    }\n",
       "\n",
       "    .dataframe thead th {\n",
       "        text-align: right;\n",
       "    }\n",
       "</style>\n",
       "<table border=\"1\" class=\"dataframe\">\n",
       "  <thead>\n",
       "    <tr style=\"text-align: right;\">\n",
       "      <th></th>\n",
       "      <th>total_vine_reviews</th>\n",
       "      <th>total_non_vine_reviews</th>\n",
       "      <th>total_5_star_vine_reviews</th>\n",
       "      <th>total_5_star_non_vine_reviews</th>\n",
       "      <th>vine_reviews_5_star_percentage</th>\n",
       "      <th>non_vine_reviews_5_star_percentage</th>\n",
       "    </tr>\n",
       "  </thead>\n",
       "  <tbody>\n",
       "    <tr>\n",
       "      <th>0</th>\n",
       "      <td>926</td>\n",
       "      <td>41096</td>\n",
       "      <td>408</td>\n",
       "      <td>18104</td>\n",
       "      <td>44.05%</td>\n",
       "      <td>44.05%</td>\n",
       "    </tr>\n",
       "  </tbody>\n",
       "</table>\n",
       "</div>"
      ],
      "text/plain": [
       "   total_vine_reviews  total_non_vine_reviews  total_5_star_vine_reviews  \\\n",
       "0                 926                   41096                        408   \n",
       "\n",
       "   total_5_star_non_vine_reviews vine_reviews_5_star_percentage  \\\n",
       "0                          18104                         44.05%   \n",
       "\n",
       "  non_vine_reviews_5_star_percentage  \n",
       "0                             44.05%  "
      ]
     },
     "execution_count": 76,
     "metadata": {},
     "output_type": "execute_result"
    }
   ],
   "source": [
    "vine_summary"
   ]
  }
 ],
 "metadata": {
  "kernelspec": {
   "display_name": "Python 3",
   "language": "python",
   "name": "python3"
  },
  "language_info": {
   "codemirror_mode": {
    "name": "ipython",
    "version": 3
   },
   "file_extension": ".py",
   "mimetype": "text/x-python",
   "name": "python",
   "nbconvert_exporter": "python",
   "pygments_lexer": "ipython3",
   "version": "3.8.5"
  }
 },
 "nbformat": 4,
 "nbformat_minor": 4
}
